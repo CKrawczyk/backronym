{
 "cells": [
  {
   "cell_type": "code",
   "execution_count": 1,
   "metadata": {},
   "outputs": [],
   "source": [
    "import feedparser\n",
    "import re\n",
    "from collections import defaultdict\n",
    "from bs4 import BeautifulSoup\n",
    "import random\n",
    "import markovify\n",
    "# import Levenshtein\n",
    "# import numpy as np"
   ]
  },
  {
   "cell_type": "code",
   "execution_count": 2,
   "metadata": {},
   "outputs": [],
   "source": [
    "d = feedparser.parse('https://en.wikipedia.org/wiki/List_of_astronomy_acronyms')\n",
    "soup = BeautifulSoup(d.feed.summary, 'html.parser')\n",
    "all_ids = ['0–9', 'A', 'B', 'C', 'D', 'E', 'F', 'G', 'H', 'I', 'J', 'K', 'L', 'M', 'N', 'O', 'P', 'Q', 'R', 'S', 'T', 'U', 'V', 'W', 'X', 'Y', 'Z'] "
   ]
  },
  {
   "cell_type": "code",
   "execution_count": 128,
   "metadata": {},
   "outputs": [],
   "source": [
    "training_set = ''\n",
    "training_set_no_acro = ''\n",
    "acronyms = []\n",
    "for id in all_ids:\n",
    "    ul = soup.find(id=id).findNext('ul')\n",
    "    for item in ul.find_all('li'):\n",
    "        try:\n",
    "            a, t_all = item.text.split('–')\n",
    "            t = t_all.split(') ')[1].split(',')[0].split(' - ')[0]\n",
    "            t_format = '{0} : {1}\\n'.format(a.strip(), t)\n",
    "            acronyms.append(a.strip())\n",
    "            training_set += t_format\n",
    "            training_set_no_acro += '{0}\\n'.format(t)\n",
    "        except:\n",
    "            pass"
   ]
  },
  {
   "cell_type": "code",
   "execution_count": 129,
   "metadata": {},
   "outputs": [],
   "source": [
    "text_model = markovify.NewlineText(training_set)\n",
    "text_model_no_acro = markovify.NewlineText(training_set_no_acro)"
   ]
  },
  {
   "cell_type": "code",
   "execution_count": 90,
   "metadata": {},
   "outputs": [
    {
     "data": {
      "text/plain": [
       "'AMS : American Astronomical Society of the Astronomical Society of Canada'"
      ]
     },
     "execution_count": 90,
     "metadata": {},
     "output_type": "execute_result"
    }
   ],
   "source": [
    "text_model.make_sentence(strict=False, tries=1000)"
   ]
  },
  {
   "cell_type": "code",
   "execution_count": 95,
   "metadata": {},
   "outputs": [
    {
     "name": "stdout",
     "output_type": "stream",
     "text": [
      "ApJL : Astrophysical Research Consortium\n",
      "SNU : solar power satellite\n",
      "SINGG : Survey of Multiple Occulting Galaxies\n",
      "CGSS : Catalogue of Variable Star Observers League in Japan\n",
      "SSS : SuperCOSMOS Sky Survey provisory / preliminary\n",
      "also NEA : Near-Earth Asteroid Research\n",
      "IERS : International Atomic Time\n",
      "XRF : x-ray nova\n",
      "DSN : Deep Space Surveillance Site\n",
      "AIPS : Astronomical Society\n",
      "LSR : local sidereal time\n",
      "NACA : National Science Foundation\n",
      "ADS : Astrophysics Data Facility\n",
      "GAIA : Global Astrometric Interferometer for Astrophysics and Space Sciences\n",
      "IHW : International Sun-Earth Explorer\n",
      "PSI : Planetary Nebula\n",
      "TO : telescope nut\n",
      "CEMP-r/s : Carbon-enhanced metal-poor star with an enhancement of elements produced by the r-process or s-process nucleosynthesis\n",
      "KAIT : Katzman Automatic Imaging Telescope Array System\n",
      "IAU : International Space Year\n"
     ]
    }
   ],
   "source": [
    "for _ in range(20):\n",
    "    print(text_model.make_sentence(strict=False, tries=1000))"
   ]
  },
  {
   "cell_type": "code",
   "execution_count": 108,
   "metadata": {},
   "outputs": [],
   "source": [
    "all_words = [w for w in re.split('\\s+|:', training_set) if w]\n",
    "abc_words = defaultdict(list)\n",
    "for w in all_words:\n",
    "    abc_words[w[0].lower()].append(w)"
   ]
  },
  {
   "cell_type": "code",
   "execution_count": 156,
   "metadata": {},
   "outputs": [],
   "source": [
    "text_model_no_acro.make_sentence_with_start('x-ray', strict=False, tries=1000)"
   ]
  },
  {
   "cell_type": "code",
   "execution_count": 157,
   "metadata": {},
   "outputs": [],
   "source": [
    "def first_letter(l):\n",
    "    value = None\n",
    "    seed_words = list(set(abc_words[l.lower()]))\n",
    "    seed_words = random.sample(seed_words, len(seed_words))\n",
    "    for seed in seed_words:\n",
    "        result = text_model_no_acro.make_sentence_with_start(seed, strict=False, tries=1000)\n",
    "        if result is not None:\n",
    "            return result"
   ]
  },
  {
   "cell_type": "code",
   "execution_count": 196,
   "metadata": {},
   "outputs": [],
   "source": [
    "def backronym(string):\n",
    "    seed_letter = string[0].lower()\n",
    "    words = first_letter(seed_letter)\n",
    "    return '{0} : {1}'.format(string, words)"
   ]
  },
  {
   "cell_type": "code",
   "execution_count": 200,
   "metadata": {},
   "outputs": [
    {
     "name": "stdout",
     "output_type": "stream",
     "text": [
      "BACKRONYM : Blue super giant star\n"
     ]
    }
   ],
   "source": [
    "print(backronym('BACKRONYM'))"
   ]
  },
  {
   "cell_type": "code",
   "execution_count": null,
   "metadata": {},
   "outputs": [],
   "source": []
  }
 ],
 "metadata": {
  "kernelspec": {
   "display_name": "Python 3",
   "language": "python",
   "name": "python3"
  },
  "language_info": {
   "codemirror_mode": {
    "name": "ipython",
    "version": 3
   },
   "file_extension": ".py",
   "mimetype": "text/x-python",
   "name": "python",
   "nbconvert_exporter": "python",
   "pygments_lexer": "ipython3",
   "version": "3.7.3"
  }
 },
 "nbformat": 4,
 "nbformat_minor": 4
}
