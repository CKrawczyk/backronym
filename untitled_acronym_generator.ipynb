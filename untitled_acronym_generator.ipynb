{
 "cells": [
  {
   "cell_type": "code",
   "execution_count": 1,
   "metadata": {},
   "outputs": [],
   "source": [
    "import feedparser\n",
    "import re\n",
    "from collections import defaultdict\n",
    "from bs4 import BeautifulSoup\n",
    "import random\n",
    "import markovify\n",
    "# import Levenshtein\n",
    "# import numpy as np"
   ]
  },
  {
   "cell_type": "code",
   "execution_count": 2,
   "metadata": {},
   "outputs": [],
   "source": [
    "d = feedparser.parse('https://en.wikipedia.org/wiki/List_of_astronomy_acronyms')\n",
    "soup = BeautifulSoup(d.feed.summary, 'html.parser')\n",
    "all_ids = ['0–9', 'A', 'B', 'C', 'D', 'E', 'F', 'G', 'H', 'I', 'J', 'K', 'L', 'M', 'N', 'O', 'P', 'Q', 'R', 'S', 'T', 'U', 'V', 'W', 'X', 'Y', 'Z'] "
   ]
  },
  {
   "cell_type": "code",
   "execution_count": 3,
   "metadata": {},
   "outputs": [],
   "source": [
    "training_set = ''\n",
    "training_set_no_acro = ''\n",
    "acronyms = []\n",
    "for id in all_ids:\n",
    "    ul = soup.find(id=id).findNext('ul')\n",
    "    for item in ul.find_all('li'):\n",
    "        try:\n",
    "            a, t_all = item.text.split('–')\n",
    "            t = t_all.split(') ')[1].split(',')[0].split(' - ')[0]\n",
    "            t_format = '{0} : {1}\\n'.format(a.strip(), t)\n",
    "            acronyms.append(a.strip())\n",
    "            training_set += t_format\n",
    "            training_set_no_acro += '{0}\\n'.format(t)\n",
    "        except:\n",
    "            pass"
   ]
  },
  {
   "cell_type": "code",
   "execution_count": 4,
   "metadata": {},
   "outputs": [],
   "source": [
    "text_model = markovify.NewlineText(training_set)\n",
    "text_model_no_acro = markovify.NewlineText(training_set_no_acro)"
   ]
  },
  {
   "cell_type": "code",
   "execution_count": 5,
   "metadata": {},
   "outputs": [
    {
     "name": "stdout",
     "output_type": "stream",
     "text": [
      "RGO : Royal Astronomical Society of the Astronomical Society\n",
      "APOD : Astronomy & Astrophysics\n",
      "IfA : Institute of Astronomy\n",
      "MYSO : massive x-ray binary\n",
      "VST : VLT Survey Telescope And Rapid Response System\n",
      "VLBI : very low mass\n",
      "AURA : Association of Variable Stars\n",
      "NOAO : National Institute of Space\n",
      "AWCA : American Association of New York\n",
      "NASA : National Institute of Space\n",
      "EGRET : Energetic Gamma Ray Burst Optical Counterparts Search Experiment\n",
      "2MASSW : Two-Micron All Sky Imaging Survey\n",
      "AAVSO : American Meteor Society\n",
      "ASA : Astronomical Data Center\n",
      "EVN : European Large Area Space Telescope\n",
      "GROSCE : Gamma Ray Observatory\n",
      "NGC : New General Catalog of Variable Star Observers League in Japan\n",
      "RASS : ROSAT X-ray HRI\n",
      "LCROSS : Lunar Transient Phenomenon\n",
      "UARS : Upper Main Sequence\n"
     ]
    }
   ],
   "source": [
    "for _ in range(20):\n",
    "    print(text_model.make_sentence(strict=False, tries=1000))"
   ]
  },
  {
   "cell_type": "code",
   "execution_count": 6,
   "metadata": {},
   "outputs": [],
   "source": [
    "all_words = [w for w in re.split('\\s+|:', training_set) if w]\n",
    "abc_words = defaultdict(list)\n",
    "for w in all_words:\n",
    "    abc_words[w[0].lower()].append(w)"
   ]
  },
  {
   "cell_type": "code",
   "execution_count": 7,
   "metadata": {},
   "outputs": [],
   "source": [
    "def first_letter(l):\n",
    "    value = None\n",
    "    seed_words = list(set(abc_words[l.lower()]))\n",
    "    seed_words = random.sample(seed_words, len(seed_words))\n",
    "    for seed in seed_words:\n",
    "        result = text_model_no_acro.make_sentence_with_start(seed, strict=False, tries=1000)\n",
    "        if result is not None:\n",
    "            return result"
   ]
  },
  {
   "cell_type": "code",
   "execution_count": 8,
   "metadata": {},
   "outputs": [],
   "source": [
    "def backronym(string):\n",
    "    seed_letter = string[0].lower()\n",
    "    words = first_letter(seed_letter)\n",
    "    return '{0} : {1}'.format(string, words)"
   ]
  },
  {
   "cell_type": "code",
   "execution_count": 11,
   "metadata": {},
   "outputs": [
    {
     "name": "stdout",
     "output_type": "stream",
     "text": [
      "BACKRONYM : Burst and All Sky Survey\n"
     ]
    }
   ],
   "source": [
    "print(backronym('BACKRONYM'))"
   ]
  },
  {
   "cell_type": "code",
   "execution_count": null,
   "metadata": {},
   "outputs": [],
   "source": []
  }
 ],
 "metadata": {
  "kernelspec": {
   "display_name": "Python 3",
   "language": "python",
   "name": "python3"
  },
  "language_info": {
   "codemirror_mode": {
    "name": "ipython",
    "version": 3
   },
   "file_extension": ".py",
   "mimetype": "text/x-python",
   "name": "python",
   "nbconvert_exporter": "python",
   "pygments_lexer": "ipython3",
   "version": "3.7.3"
  }
 },
 "nbformat": 4,
 "nbformat_minor": 4
}
